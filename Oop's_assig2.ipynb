{
 "cells": [
  {
   "cell_type": "markdown",
   "id": "35df61f6-1c1b-4bb2-9a90-a3ccdfa5f444",
   "metadata": {},
   "source": [
    "1)->  object oriented programming language are present 4 pillars abstraction  are one of them. we make abstrct class, In abstract class contain abstract method and making abstract class we used the abc library. Every abstraction method are represent with @abc.abstractmethod.\n",
    "e.g:-"
   ]
  },
  {
   "cell_type": "code",
   "execution_count": 2,
   "id": "d3ffcf83-294d-4ac4-af1e-83bc217b9172",
   "metadata": {},
   "outputs": [],
   "source": [
    "import  abc\n",
    "class test:\n",
    "    @abc.abstractmethod\n",
    "    def test(self):\n",
    "        pass"
   ]
  },
  {
   "cell_type": "code",
   "execution_count": 3,
   "id": "cd72b8f3-4bcc-415d-bf3f-63af72066681",
   "metadata": {},
   "outputs": [],
   "source": [
    "class test1(test):\n",
    "    def test(self):\n",
    "        return(\"I am abstract method\")"
   ]
  },
  {
   "cell_type": "code",
   "execution_count": 4,
   "id": "7cedf00c-8ee0-462a-b07d-6e709755e9fc",
   "metadata": {},
   "outputs": [],
   "source": [
    "test1=test1()"
   ]
  },
  {
   "cell_type": "code",
   "execution_count": 5,
   "id": "0037c5f0-3f30-4328-93d4-51d1e2111789",
   "metadata": {},
   "outputs": [
    {
     "data": {
      "text/plain": [
       "'I am abstract method'"
      ]
     },
     "execution_count": 5,
     "metadata": {},
     "output_type": "execute_result"
    }
   ],
   "source": [
    "test1.test()"
   ]
  },
  {
   "cell_type": "markdown",
   "id": "30640ae7-6966-4f10-abb8-9f2fa3380fae",
   "metadata": {},
   "source": [
    "2)-> encapsulation and abstraction both are the pillars of oop's language. encapsulation means wrapping of data in single units, abstraction it means hide method.abstraction we can achive through the abc.abstractmethod and encapsulation we can achive make data as private\n",
    "e.g:- encapsulation."
   ]
  },
  {
   "cell_type": "code",
   "execution_count": 21,
   "id": "de20b238-e087-4b76-b280-7b164c6f8436",
   "metadata": {},
   "outputs": [],
   "source": [
    "class test:\n",
    "    def __init__(self,a,b):\n",
    "        self.__a=a\n",
    "        self.b=b\n",
    "    \n",
    "    def geta(self):\n",
    "        print(self.__a)\n",
    "    \n",
    "    def seta(self, a):\n",
    "        self.__a=a"
   ]
  },
  {
   "cell_type": "code",
   "execution_count": 22,
   "id": "e6fa2800-ccfc-4a1e-adea-ec5243622bd1",
   "metadata": {},
   "outputs": [],
   "source": [
    "a=test(10,20)"
   ]
  },
  {
   "cell_type": "code",
   "execution_count": 23,
   "id": "eca63b99-80c3-4149-a8ee-e517745626f0",
   "metadata": {},
   "outputs": [
    {
     "name": "stdout",
     "output_type": "stream",
     "text": [
      "10\n"
     ]
    }
   ],
   "source": [
    "a.geta()"
   ]
  },
  {
   "cell_type": "markdown",
   "id": "8cc0f3d6-00ce-4e0a-ab6c-26e10fe00715",
   "metadata": {},
   "source": [
    "e.g:- abstraction"
   ]
  },
  {
   "cell_type": "code",
   "execution_count": 25,
   "id": "ed2c546d-094d-4258-81bb-a30084b60ff4",
   "metadata": {},
   "outputs": [],
   "source": [
    "import abc\n",
    "class test:\n",
    "    @abc.abstractmethod\n",
    "    def show(self):\n",
    "        pass\n",
    "    "
   ]
  },
  {
   "cell_type": "code",
   "execution_count": 33,
   "id": "91900b0f-d48a-4e32-97e7-86e623b253f7",
   "metadata": {},
   "outputs": [],
   "source": [
    "class test1(test):\n",
    "    def show(self):\n",
    "        return(\"I am child class\")"
   ]
  },
  {
   "cell_type": "code",
   "execution_count": 34,
   "id": "7522736d-af67-45e5-8d0d-7db7409aa603",
   "metadata": {},
   "outputs": [],
   "source": [
    "test2=test1()"
   ]
  },
  {
   "cell_type": "code",
   "execution_count": 35,
   "id": "d96423bf-9d1d-4bf8-a624-a6003a3c5adc",
   "metadata": {},
   "outputs": [
    {
     "data": {
      "text/plain": [
       "'I am child class'"
      ]
     },
     "execution_count": 35,
     "metadata": {},
     "output_type": "execute_result"
    }
   ],
   "source": [
    "test2.show()"
   ]
  },
  {
   "cell_type": "markdown",
   "id": "726721d5-7f9e-4eb6-ada6-5c05978cafa2",
   "metadata": {},
   "source": [
    "3)-> abc module are library in python and it useful for implementation abstraction concept. In abc module are consiste so many methods like abstractmethod."
   ]
  },
  {
   "cell_type": "markdown",
   "id": "96105a0e-de3f-4226-80ad-98fdb25c458e",
   "metadata": {},
   "source": [
    "4)->data abstraction create the method only with their defination and implement or modify in child class is known as abstraction"
   ]
  },
  {
   "cell_type": "code",
   "execution_count": 36,
   "id": "032742b1-3b50-4a31-9692-59381ae164f4",
   "metadata": {},
   "outputs": [
    {
     "ename": "SyntaxError",
     "evalue": "unmatched ')' (1909045195.py, line 1)",
     "output_type": "error",
     "traceback": [
      "\u001b[0;36m  Cell \u001b[0;32mIn[36], line 1\u001b[0;36m\u001b[0m\n\u001b[0;31m    5)->\u001b[0m\n\u001b[0m     ^\u001b[0m\n\u001b[0;31mSyntaxError\u001b[0m\u001b[0;31m:\u001b[0m unmatched ')'\n"
     ]
    }
   ],
   "source": [
    "5)->Yes, it's possible we create instance of abstract class. In following example we see that "
   ]
  },
  {
   "cell_type": "code",
   "execution_count": 42,
   "id": "72b1b9e0-d8af-4737-967a-f736c8b906af",
   "metadata": {},
   "outputs": [],
   "source": [
    "import abc\n",
    "class test:\n",
    "    @abc.abstractmethod\n",
    "    def test(self):\n",
    "        pass\n",
    "    def test3(self):\n",
    "        return(\"I am from test class\")"
   ]
  },
  {
   "cell_type": "code",
   "execution_count": 43,
   "id": "75832c81-dbc6-4509-b9b2-bb666c7bbdf9",
   "metadata": {},
   "outputs": [],
   "source": [
    "class test1(test):\n",
    "    def test(self):\n",
    "        return(\"I am from child class\")"
   ]
  },
  {
   "cell_type": "code",
   "execution_count": 44,
   "id": "668ce96d-5dc4-49cd-971e-0a874ee86cb2",
   "metadata": {},
   "outputs": [],
   "source": [
    "test2=test()"
   ]
  },
  {
   "cell_type": "code",
   "execution_count": 47,
   "id": "0caf8050-243b-48c9-aec5-0bea97493f9f",
   "metadata": {},
   "outputs": [
    {
     "data": {
      "text/plain": [
       "'I am from test class'"
      ]
     },
     "execution_count": 47,
     "metadata": {},
     "output_type": "execute_result"
    }
   ],
   "source": [
    "test2.test3()"
   ]
  }
 ],
 "metadata": {
  "kernelspec": {
   "display_name": "Python 3 (ipykernel)",
   "language": "python",
   "name": "python3"
  },
  "language_info": {
   "codemirror_mode": {
    "name": "ipython",
    "version": 3
   },
   "file_extension": ".py",
   "mimetype": "text/x-python",
   "name": "python",
   "nbconvert_exporter": "python",
   "pygments_lexer": "ipython3",
   "version": "3.10.8"
  }
 },
 "nbformat": 4,
 "nbformat_minor": 5
}
